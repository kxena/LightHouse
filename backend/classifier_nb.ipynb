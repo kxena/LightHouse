{
 "cells": [
  {
   "cell_type": "code",
   "execution_count": 1,
   "id": "3177ce74",
   "metadata": {},
   "outputs": [],
   "source": [
    "import pandas as pd\n",
    "import numpy as np\n",
    "from sklearn.feature_extraction.text import TfidfVectorizer\n",
    "from sklearn.linear_model import LogisticRegression\n",
    "from sklearn.model_selection import train_test_split\n",
    "from sklearn.metrics import accuracy_score, classification_report, confusion_matrix\n",
    "import re\n",
    "import string"
   ]
  },
  {
   "cell_type": "code",
   "execution_count": 2,
   "id": "27777d38",
   "metadata": {},
   "outputs": [
    {
     "name": "stdout",
     "output_type": "stream",
     "text": [
      "Training data shape: (7613, 4)\n",
      "Testing data shape: (3263, 3)\n",
      "\n",
      "First few rows of training data:\n",
      "   id keyword                                               text  target\n",
      "0   1    none  Our Deeds are the Reason of this #earthquake M...       1\n",
      "1   4    none             Forest fire near La Ronge Sask. Canada       1\n",
      "2   5    none  All residents asked to 'shelter in place' are ...       1\n",
      "3   6    none  13,000 people receive #wildfires evacuation or...       1\n",
      "4   7    none  Just got sent this photo from Ruby #Alaska as ...       1\n"
     ]
    }
   ],
   "source": [
    "# Load training and testing data\n",
    "train_df = pd.read_csv('cleaned_train.csv')\n",
    "test_df = pd.read_csv('cleaned_test.csv')\n",
    "\n",
    "print(\"Training data shape:\", train_df.shape)\n",
    "print(\"Testing data shape:\", test_df.shape)\n",
    "print(\"\\nFirst few rows of training data:\")\n",
    "print(train_df.head())"
   ]
  },
  {
   "cell_type": "code",
   "execution_count": 3,
   "id": "1672c932",
   "metadata": {},
   "outputs": [
    {
     "name": "stdout",
     "output_type": "stream",
     "text": [
      "\n",
      "Example of cleaned text:\n",
      "Original: Our Deeds are the Reason of this #earthquake May ALLAH Forgive us all\n",
      "Cleaned: our deeds are the reason of this earthquake may allah forgive us all\n"
     ]
    }
   ],
   "source": [
    "# Data Preprocessing\n",
    "def preprocess_text(text):\n",
    "    \"\"\"\n",
    "    Preprocesses tweet text by:\n",
    "    - Converting to lowercase\n",
    "    - Removing URLs\n",
    "    - Removing mentions (@username)\n",
    "    - Removing special characters and punctuation\n",
    "    - Removing extra whitespace\n",
    "    \"\"\"\n",
    "    if pd.isna(text):\n",
    "        return \"\"\n",
    "    \n",
    "    # Convert to lowercase\n",
    "    text = text.lower()\n",
    "    \n",
    "    # Remove URLs\n",
    "    text = re.sub(r'http\\S+|www\\S+|https\\S+', '', text, flags=re.MULTILINE)\n",
    "    \n",
    "    # Remove mentions\n",
    "    text = re.sub(r'@\\w+', '', text)\n",
    "    \n",
    "    # Remove hashtags (keep the word, remove the #)\n",
    "    text = re.sub(r'#', '', text)\n",
    "    \n",
    "    # Remove punctuation\n",
    "    text = text.translate(str.maketrans('', '', string.punctuation))\n",
    "    \n",
    "    # Remove extra whitespace\n",
    "    text = ' '.join(text.split())\n",
    "    \n",
    "    return text\n",
    "\n",
    "# Apply preprocessing to training and testing data\n",
    "train_df['cleaned_text'] = train_df['text'].apply(preprocess_text)\n",
    "test_df['cleaned_text'] = test_df['text'].apply(preprocess_text)\n",
    "\n",
    "print(\"\\nExample of cleaned text:\")\n",
    "print(f\"Original: {train_df['text'].iloc[0]}\")\n",
    "print(f\"Cleaned: {train_df['cleaned_text'].iloc[0]}\")"
   ]
  },
  {
   "cell_type": "code",
   "execution_count": 4,
   "id": "1695ee4c",
   "metadata": {},
   "outputs": [
    {
     "name": "stdout",
     "output_type": "stream",
     "text": [
      "\n",
      "TF-IDF feature matrix shape (training): (7613, 5000)\n",
      "TF-IDF feature matrix shape (testing): (3263, 5000)\n"
     ]
    }
   ],
   "source": [
    "# Feature extraction using TF-IDF\n",
    "\n",
    "# Initialize TF-IDF Vectorizer\n",
    "tfidf = TfidfVectorizer(\n",
    "    max_features=5000,  # Limit to top 5000 features\n",
    "    min_df=2,           # Ignore terms that appear in less than 2 documents\n",
    "    max_df=0.8,         # Ignore terms that appear in more than 80% of documents\n",
    "    ngram_range=(1, 2), # Use unigrams and bigrams\n",
    "    stop_words='english'\n",
    ")\n",
    "\n",
    "# Fit and transform training data\n",
    "X_train = tfidf.fit_transform(train_df['cleaned_text'])\n",
    "y_train = train_df['target']\n",
    "\n",
    "# Transform testing data (use same vectorizer)\n",
    "X_test = tfidf.transform(test_df['cleaned_text'])\n",
    "\n",
    "print(f\"\\nTF-IDF feature matrix shape (training): {X_train.shape}\")\n",
    "print(f\"TF-IDF feature matrix shape (testing): {X_test.shape}\")\n"
   ]
  },
  {
   "cell_type": "code",
   "execution_count": 5,
   "id": "4be065f0",
   "metadata": {},
   "outputs": [
    {
     "name": "stdout",
     "output_type": "stream",
     "text": [
      "\n",
      "Training set size: 6090\n",
      "Validation set size: 1523\n"
     ]
    }
   ],
   "source": [
    "# Split training data to create a validation set\n",
    "X_train_split, X_val, y_train_split, y_val = train_test_split(\n",
    "    X_train, y_train, \n",
    "    test_size=0.2, \n",
    "    random_state=42,\n",
    "    stratify=y_train\n",
    ")\n",
    "\n",
    "print(f\"\\nTraining set size: {X_train_split.shape[0]}\")\n",
    "print(f\"Validation set size: {X_val.shape[0]}\")"
   ]
  },
  {
   "cell_type": "code",
   "execution_count": 11,
   "id": "9fa08914",
   "metadata": {},
   "outputs": [
    {
     "name": "stdout",
     "output_type": "stream",
     "text": [
      "\n",
      "Training the model...\n",
      "Model training complete!\n"
     ]
    }
   ],
   "source": [
    "# Initialize and train the model\n",
    "model = LogisticRegression(\n",
    "    max_iter=1000,\n",
    "    random_state=42,\n",
    "    C=1.0,  # Regularization parameter\n",
    "    class_weight='balanced'  # Handle class imbalance\n",
    ")\n",
    "\n",
    "print(\"\\nTraining the model...\")\n",
    "model.fit(X_train_split, y_train_split)\n",
    "print(\"Model training complete!\")"
   ]
  },
  {
   "cell_type": "code",
   "execution_count": 13,
   "id": "312539a4",
   "metadata": {},
   "outputs": [
    {
     "name": "stdout",
     "output_type": "stream",
     "text": [
      "\n",
      "Validation Accuracy: 0.8076\n",
      "\n",
      "Classification Report:\n",
      "              precision    recall  f1-score   support\n",
      "\n",
      "Not Disaster       0.83      0.84      0.83       869\n",
      "    Disaster       0.78      0.77      0.77       654\n",
      "\n",
      "    accuracy                           0.81      1523\n",
      "   macro avg       0.80      0.80      0.80      1523\n",
      "weighted avg       0.81      0.81      0.81      1523\n",
      "\n",
      "Confusion Matrix:\n",
      "[[727 142]\n",
      " [151 503]]\n"
     ]
    }
   ],
   "source": [
    "# Evaluate model on Validation set\n",
    "\n",
    "# Make predictions on validation set\n",
    "y_val_pred = model.predict(X_val)\n",
    "\n",
    "# Calculate accuracy\n",
    "val_accuracy = accuracy_score(y_val, y_val_pred)\n",
    "print(f\"\\nValidation Accuracy: {val_accuracy:.4f}\")\n",
    "\n",
    "# Print detailed classification report\n",
    "print(\"\\nClassification Report:\")\n",
    "print(classification_report(y_val, y_val_pred, target_names=['Not Disaster', 'Disaster']))\n",
    "\n",
    "# Print confusion matrix\n",
    "print(\"Confusion Matrix:\")\n",
    "print(confusion_matrix(y_val, y_val_pred))"
   ]
  },
  {
   "cell_type": "code",
   "execution_count": 8,
   "id": "da8baa92",
   "metadata": {},
   "outputs": [
    {
     "name": "stdout",
     "output_type": "stream",
     "text": [
      "\n",
      "Training final model on full training data...\n",
      "Final model training complete!\n"
     ]
    }
   ],
   "source": [
    "# Train model on full training data\n",
    "print(\"\\nTraining final model on full training data...\")\n",
    "final_model = LogisticRegression(\n",
    "    max_iter=1000,\n",
    "    random_state=42,\n",
    "    C=1.0\n",
    ")\n",
    "final_model.fit(X_train, y_train)\n",
    "print(\"Final model training complete!\")"
   ]
  },
  {
   "cell_type": "code",
   "execution_count": 9,
   "id": "5c195ab4",
   "metadata": {},
   "outputs": [
    {
     "name": "stdout",
     "output_type": "stream",
     "text": [
      "\n",
      "Number of predictions: 3263\n",
      "Predicted disasters: 1107\n",
      "Predicted non-disasters: 2156\n"
     ]
    }
   ],
   "source": [
    "# Make predictions on test data\n",
    "test_predictions = final_model.predict(X_test)\n",
    "\n",
    "print(f\"\\nNumber of predictions: {len(test_predictions)}\")\n",
    "print(f\"Predicted disasters: {sum(test_predictions)}\")\n",
    "print(f\"Predicted non-disasters: {len(test_predictions) - sum(test_predictions)}\")"
   ]
  },
  {
   "cell_type": "code",
   "execution_count": 10,
   "id": "2c4c3722",
   "metadata": {},
   "outputs": [
    {
     "name": "stdout",
     "output_type": "stream",
     "text": [
      "\n",
      "Results file created: results.csv\n",
      "   id  target\n",
      "0   0       1\n",
      "1   2       1\n",
      "2   3       1\n",
      "3   9       1\n",
      "4  11       1\n",
      "5  12       1\n",
      "6  21       0\n",
      "7  22       0\n",
      "8  27       0\n",
      "9  29       0\n"
     ]
    }
   ],
   "source": [
    "# Create CSV for predicted results\n",
    "results = pd.DataFrame({\n",
    "    'id': test_df['id'],\n",
    "    'target': test_predictions\n",
    "})\n",
    "\n",
    "# Save to CSV\n",
    "results.to_csv('results.csv', index=False)\n",
    "print(\"\\nResults file created: results.csv\")\n",
    "print(results.head(10))"
   ]
  }
 ],
 "metadata": {
  "kernelspec": {
   "display_name": "Python 3",
   "language": "python",
   "name": "python3"
  },
  "language_info": {
   "codemirror_mode": {
    "name": "ipython",
    "version": 3
   },
   "file_extension": ".py",
   "mimetype": "text/x-python",
   "name": "python",
   "nbconvert_exporter": "python",
   "pygments_lexer": "ipython3",
   "version": "3.13.3"
  }
 },
 "nbformat": 4,
 "nbformat_minor": 5
}
